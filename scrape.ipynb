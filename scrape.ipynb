{
 "cells": [
  {
   "cell_type": "code",
   "execution_count": 16,
   "metadata": {},
   "outputs": [],
   "source": [
    "# Importing required packages\n",
    "import pandas as pd\n",
    "import requests\n",
    "from bs4 import BeautifulSoup\n",
    "from omdbapi.movie_search import GetMovie"
   ]
  },
  {
   "cell_type": "code",
   "execution_count": 3,
   "metadata": {},
   "outputs": [],
   "source": [
    "# Goal of this project is to extract information on the top 250 movies according to imdb.\n",
    "\n",
    "# Step 1: Get list from IMDB\n",
    "imdb_url = 'https://www.imdb.com/chart/top/' # url for top 250 list\n",
    "imdb_r = requests.get(imdb_url)\n",
    "imdb_soup = BeautifulSoup(imdb_r.text, 'lxml') # Creating soup object for scraping"
   ]
  },
  {
   "cell_type": "code",
   "execution_count": 40,
   "metadata": {},
   "outputs": [],
   "source": [
    "# Subsetting soup object to movie title section\n",
    "movies = imdb_soup.select('td.titleColumn')\n",
    "Titles = [] # Creating empty list to hold movie titles \n",
    "\n",
    "# Looping through html to populate list with movie titles\n",
    "for index in range(0, len(movies)):\n",
    "    movie_string = movies[index].get_text()\n",
    "    movie = (' '.join(movie_string.split()))\n",
    "    movie_title = movie[len(str(index))+1:-7]\n",
    "    Titles.append(movie_title)\n",
    "\n",
    "# Finishing touches on some formatting in the list of titles\n",
    "Titles = [title.strip() for title in Titles]\n",
    "for i in range(0,250):\n",
    "    if Titles[i][0] == '.':\n",
    "        Titles[i] = Titles[i][1:]\n",
    "Titles = [title.strip() for title in Titles]"
   ]
  },
  {
   "cell_type": "code",
   "execution_count": 42,
   "metadata": {},
   "outputs": [],
   "source": [
    "# Step 2: Use scraped list of movies to access open source omdb api\n",
    "\n",
    "# Retrieve personel api key and connect to omdb api using omdbapi library \n",
    "f = open(\"omdbkey.txt\", 'r')\n",
    "key = f.readline()\n",
    "movie = GetMovie(api_key = key)"
   ]
  },
  {
   "cell_type": "code",
   "execution_count": 53,
   "metadata": {},
   "outputs": [],
   "source": [
    "# Define function to retrieve item by index\n",
    "def scrape(index, item):\n",
    "    if movie.get_movie(title=Titles[index]).get(item) == None:\n",
    "        return 0\n",
    "    else:\n",
    "        return movie.get_movie(title = Titles[index])[item]"
   ]
  },
  {
   "cell_type": "code",
   "execution_count": 89,
   "metadata": {},
   "outputs": [],
   "source": [
    "# Populating lists for the rest of the desired columns\n",
    "\n",
    "# Year\n",
    "Year = [scrape(i, 'year') for i in range(0,250)]\n",
    "\n",
    "# Rating\n",
    "Rating = [scrape(i, 'rated') for i in range(0,250)]\n",
    "\n",
    "# Runtime\n",
    "Runtime = [scrape(i, 'runtime') for i in range(0,250)]\n",
    "\n",
    "# Genre\n",
    "Genre = [scrape(i, 'genre') for i in range(0,250)]\n",
    "\n",
    "# Director\n",
    "Director = [scrape(i, 'director') for i in range(0,250)]\n",
    "\n",
    "# IMDB rating \n",
    "Score = [scrape(i, 'imdbrating') for i in range(0,250)]\n",
    "\n",
    "# Box office\n",
    "Boxoffice = [scrape(i,'boxoffice') for i in range(0,250)]"
   ]
  },
  {
   "cell_type": "code",
   "execution_count": 90,
   "metadata": {},
   "outputs": [],
   "source": [
    "# Creating pandas dataframe\n",
    "\n",
    "top250 = pd.DataFrame({\n",
    "    'Title' : Titles,\n",
    "    'Year' : Year,\n",
    "    'Rating' : Rating,\n",
    "    'Runtime' : Runtime,\n",
    "    'Genre' : Genre,\n",
    "    'Director' : Director,\n",
    "    'Score' : Score,\n",
    "    'BoxOffice' : Boxoffice\n",
    "})\n",
    "\n",
    "# Exporting data to csv\n",
    "top250.to_csv('top250.csv', sep=',')"
   ]
  }
 ],
 "metadata": {
  "kernelspec": {
   "display_name": "Python 3.10.2 64-bit",
   "language": "python",
   "name": "python3"
  },
  "language_info": {
   "codemirror_mode": {
    "name": "ipython",
    "version": 3
   },
   "file_extension": ".py",
   "mimetype": "text/x-python",
   "name": "python",
   "nbconvert_exporter": "python",
   "pygments_lexer": "ipython3",
   "version": "3.10.2"
  },
  "orig_nbformat": 4,
  "vscode": {
   "interpreter": {
    "hash": "aee8b7b246df8f9039afb4144a1f6fd8d2ca17a180786b69acc140d282b71a49"
   }
  }
 },
 "nbformat": 4,
 "nbformat_minor": 2
}
